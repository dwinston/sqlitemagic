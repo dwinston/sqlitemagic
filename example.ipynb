{
 "cells": [
  {
   "cell_type": "code",
   "execution_count": 1,
   "metadata": {
    "collapsed": false
   },
   "outputs": [],
   "source": [
    "%load_ext autoreload\n",
    "%autoreload 2"
   ]
  },
  {
   "cell_type": "code",
   "execution_count": 2,
   "metadata": {
    "collapsed": false
   },
   "outputs": [],
   "source": [
    "%reload_ext sqlitemagic"
   ]
  },
  {
   "cell_type": "code",
   "execution_count": 22,
   "metadata": {
    "collapsed": false
   },
   "outputs": [
    {
     "data": {
      "text/html": [
       "<table>\n",
       "<tr><th>taken</th><th>quant</th></tr><tr><td>619</td><td>rad</td></tr>\n",
       "<tr><td>619</td><td>sal</td></tr>\n",
       "<tr><td>622</td><td>rad</td></tr>\n",
       "<tr><td>622</td><td>sal</td></tr>\n",
       "<tr><td>734</td><td>rad</td></tr>\n",
       "<tr><td>734</td><td>sal</td></tr>\n",
       "<tr><td>734</td><td>temp</td></tr>\n",
       "<tr><td>735</td><td>rad</td></tr>\n",
       "<tr><td>735</td><td>sal</td></tr>\n",
       "<tr><td>735</td><td>temp</td></tr>\n",
       "<tr><td>751</td><td>rad</td></tr>\n",
       "<tr><td>751</td><td>temp</td></tr>\n",
       "<tr><td>751</td><td>sal</td></tr>\n",
       "<tr><td>752</td><td>rad</td></tr>\n",
       "<tr><td>752</td><td>sal</td></tr>\n",
       "<tr><td>752</td><td>temp</td></tr>\n",
       "<tr><td>837</td><td>rad</td></tr>\n",
       "<tr><td>837</td><td>sal</td></tr>\n",
       "<tr><td>844</td><td>rad</td></tr>\n",
       "</table>"
      ],
      "text/plain": [
       "<IPython.core.display.HTML object>"
      ]
     },
     "metadata": {},
     "output_type": "display_data"
    }
   ],
   "source": [
    "%%sqlite survey.db\n",
    "select distinct taken, quant from survey;"
   ]
  }
 ],
 "metadata": {
  "kernelspec": {
   "display_name": "Python 3",
   "language": "python",
   "name": "python3"
  },
  "language_info": {
   "codemirror_mode": {
    "name": "ipython",
    "version": 3
   },
   "file_extension": ".py",
   "mimetype": "text/x-python",
   "name": "python",
   "nbconvert_exporter": "python",
   "pygments_lexer": "ipython3",
   "version": "3.4.3"
  }
 },
 "nbformat": 4,
 "nbformat_minor": 0
}
