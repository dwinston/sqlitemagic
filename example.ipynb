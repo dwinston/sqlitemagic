{
 "cells": [
  {
   "cell_type": "code",
   "execution_count": 1,
   "metadata": {
    "collapsed": false
   },
   "outputs": [],
   "source": [
    "%load_ext autoreload\n",
    "%autoreload 2"
   ]
  },
  {
   "cell_type": "code",
   "execution_count": 2,
   "metadata": {
    "collapsed": false
   },
   "outputs": [],
   "source": [
    "%reload_ext sqlitemagic"
   ]
  },
  {
   "cell_type": "code",
   "execution_count": 23,
   "metadata": {
    "collapsed": false
   },
   "outputs": [
    {
     "data": {
      "text/html": [
       "<table>\n",
       "<tr><td>CREATE TABLE Person(\n",
       "\tident    text,\n",
       "\tpersonal text,\n",
       "\tfamily\t text\n",
       ")</td></tr>\n",
       "<tr><td>CREATE TABLE Site(\n",
       "\tname text,\n",
       "\tlat  real,\n",
       "\tlong real\n",
       ")</td></tr>\n",
       "<tr><td>CREATE TABLE Visited(\n",
       "\tident integer,\n",
       "\tsite  text,\n",
       "\tdated text\n",
       ")</td></tr>\n",
       "<tr><td>CREATE TABLE Survey(\n",
       "\ttaken   integer,\n",
       "\tperson  text,\n",
       "\tquant   text,\n",
       "\treading real\n",
       ")</td></tr>\n",
       "</table>"
      ],
      "text/plain": [
       "<IPython.core.display.HTML object>"
      ]
     },
     "metadata": {},
     "output_type": "display_data"
    }
   ],
   "source": [
    "%%sqlite survey.db\n",
    ".schema"
   ]
  },
  {
   "cell_type": "code",
   "execution_count": 124,
   "metadata": {
    "collapsed": false
   },
   "outputs": [
    {
     "data": {
      "text/html": [
       "<table>\n",
       "<tr><th>min(dated)</th></tr><tr><td>1927-02-08</td></tr>\n",
       "</table>"
      ],
      "text/plain": [
       "<IPython.core.display.HTML object>"
      ]
     },
     "metadata": {},
     "output_type": "display_data"
    }
   ],
   "source": [
    "%%sqlite survey.db\n",
    "SELECT min(dated) FROM Visited;"
   ]
  }
 ],
 "metadata": {
  "kernelspec": {
   "display_name": "Python 3",
   "language": "python",
   "name": "python3"
  },
  "language_info": {
   "codemirror_mode": {
    "name": "ipython",
    "version": 3
   },
   "file_extension": ".py",
   "mimetype": "text/x-python",
   "name": "python",
   "nbconvert_exporter": "python",
   "pygments_lexer": "ipython3",
   "version": "3.4.3"
  }
 },
 "nbformat": 4,
 "nbformat_minor": 0
}
