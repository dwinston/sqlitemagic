{
 "cells": [
  {
   "cell_type": "code",
   "execution_count": 126,
   "metadata": {
    "collapsed": false
   },
   "outputs": [
    {
     "name": "stdout",
     "output_type": "stream",
     "text": [
      "The autoreload extension is already loaded. To reload it, use:\n",
      "  %reload_ext autoreload\n"
     ]
    }
   ],
   "source": [
    "%load_ext autoreload\n",
    "%autoreload 2"
   ]
  },
  {
   "cell_type": "code",
   "execution_count": 127,
   "metadata": {
    "collapsed": false
   },
   "outputs": [],
   "source": [
    "%reload_ext sqlitemagic"
   ]
  },
  {
   "cell_type": "code",
   "execution_count": 128,
   "metadata": {
    "collapsed": false
   },
   "outputs": [
    {
     "data": {
      "text/html": [
       "<table>\n",
       "<tr><td>CREATE TABLE Person(\n",
       "\tident    text,\n",
       "\tpersonal text,\n",
       "\tfamily\t text\n",
       ")</td></tr>\n",
       "<tr><td>CREATE TABLE Site(\n",
       "\tname text,\n",
       "\tlat  real,\n",
       "\tlong real\n",
       ")</td></tr>\n",
       "<tr><td>CREATE TABLE Visited(\n",
       "\tident integer,\n",
       "\tsite  text,\n",
       "\tdated text\n",
       ")</td></tr>\n",
       "<tr><td>CREATE TABLE Survey(\n",
       "\ttaken   integer,\n",
       "\tperson  text,\n",
       "\tquant   text,\n",
       "\treading real\n",
       ")</td></tr>\n",
       "</table>"
      ],
      "text/plain": [
       "<IPython.core.display.HTML object>"
      ]
     },
     "metadata": {},
     "output_type": "display_data"
    }
   ],
   "source": [
    "%%sqlite survey.db\n",
    ".schema"
   ]
  },
  {
   "cell_type": "code",
   "execution_count": 130,
   "metadata": {
    "collapsed": false
   },
   "outputs": [
    {
     "data": {
      "text/html": [
       "<table>\n",
       "<tr><th>ident</th><th>personal</th><th>family</th></tr><tr><td>dyer</td><td>William</td><td>Dyer</td></tr>\n",
       "<tr><td>pb</td><td>Frank</td><td>Pabodie</td></tr>\n",
       "<tr><td>lake</td><td>Anderson</td><td>Lake</td></tr>\n",
       "<tr><td>roe</td><td>Valentina</td><td>Roerich</td></tr>\n",
       "<tr><td>danforth</td><td>Frank</td><td>Danforth</td></tr>\n",
       "</table>"
      ],
      "text/plain": [
       "<IPython.core.display.HTML object>"
      ]
     },
     "metadata": {},
     "output_type": "display_data"
    }
   ],
   "source": [
    "%%sqlite survey.db\n",
    "SELECT * FROM Person;"
   ]
  },
  {
   "cell_type": "code",
   "execution_count": 131,
   "metadata": {
    "collapsed": false
   },
   "outputs": [
    {
     "data": {
      "text/html": [
       "<table>\n",
       "<tr><th>taken</th><th>person</th><th>quant</th><th>reading</th></tr><tr><td>619</td><td>dyer</td><td>rad</td><td>9.82</td></tr>\n",
       "<tr><td>619</td><td>dyer</td><td>sal</td><td>0.13</td></tr>\n",
       "<tr><td>622</td><td>dyer</td><td>rad</td><td>7.8</td></tr>\n",
       "<tr><td>622</td><td>dyer</td><td>sal</td><td>0.09</td></tr>\n",
       "<tr><td>734</td><td>pb</td><td>rad</td><td>8.41</td></tr>\n",
       "<tr><td>734</td><td>lake</td><td>sal</td><td>0.05</td></tr>\n",
       "<tr><td>734</td><td>pb</td><td>temp</td><td>-21.5</td></tr>\n",
       "<tr><td>735</td><td>pb</td><td>rad</td><td>7.22</td></tr>\n",
       "<tr><td>735</td><td>NULL</td><td>sal</td><td>0.06</td></tr>\n",
       "<tr><td>735</td><td>NULL</td><td>temp</td><td>-26.0</td></tr>\n",
       "<tr><td>751</td><td>pb</td><td>rad</td><td>4.35</td></tr>\n",
       "<tr><td>751</td><td>pb</td><td>temp</td><td>-18.5</td></tr>\n",
       "<tr><td>751</td><td>lake</td><td>sal</td><td>0.1</td></tr>\n",
       "<tr><td>752</td><td>lake</td><td>rad</td><td>2.19</td></tr>\n",
       "<tr><td>752</td><td>lake</td><td>sal</td><td>0.09</td></tr>\n",
       "<tr><td>752</td><td>lake</td><td>temp</td><td>-16.0</td></tr>\n",
       "<tr><td>752</td><td>roe</td><td>sal</td><td>41.6</td></tr>\n",
       "<tr><td>837</td><td>lake</td><td>rad</td><td>1.46</td></tr>\n",
       "<tr><td>837</td><td>lake</td><td>sal</td><td>0.21</td></tr>\n",
       "<tr><td>837</td><td>roe</td><td>sal</td><td>22.5</td></tr>\n",
       "<tr><td>844</td><td>roe</td><td>rad</td><td>11.25</td></tr>\n",
       "</table>"
      ],
      "text/plain": [
       "<IPython.core.display.HTML object>"
      ]
     },
     "metadata": {},
     "output_type": "display_data"
    }
   ],
   "source": [
    "%%sqlite survey.db\n",
    "SELECT * FROM Survey;"
   ]
  },
  {
   "cell_type": "code",
   "execution_count": 132,
   "metadata": {
    "collapsed": false
   },
   "outputs": [
    {
     "data": {
      "text/html": [
       "<table>\n",
       "<tr><td>CREATE TABLE Person(\n",
       "\tident    text,\n",
       "\tpersonal text,\n",
       "\tfamily\t text\n",
       ")</td></tr>\n",
       "<tr><td>CREATE TABLE Site(\n",
       "\tname text,\n",
       "\tlat  real,\n",
       "\tlong real\n",
       ")</td></tr>\n",
       "<tr><td>CREATE TABLE Visited(\n",
       "\tident integer,\n",
       "\tsite  text,\n",
       "\tdated text\n",
       ")</td></tr>\n",
       "<tr><td>CREATE TABLE Survey(\n",
       "\ttaken   integer,\n",
       "\tperson  text,\n",
       "\tquant   text,\n",
       "\treading real\n",
       ")</td></tr>\n",
       "</table>"
      ],
      "text/plain": [
       "<IPython.core.display.HTML object>"
      ]
     },
     "metadata": {},
     "output_type": "display_data"
    }
   ],
   "source": [
    "%%sqlite survey.db\n",
    ".schema"
   ]
  },
  {
   "cell_type": "code",
   "execution_count": 136,
   "metadata": {
    "collapsed": false
   },
   "outputs": [
    {
     "data": {
      "text/html": [
       "<table>\n",
       "<tr><th>family</th><th>personal</th></tr><tr><td>Dyer</td><td>William</td></tr>\n",
       "<tr><td>Pabodie</td><td>Frank</td></tr>\n",
       "<tr><td>Lake</td><td>Anderson</td></tr>\n",
       "<tr><td>Roerich</td><td>Valentina</td></tr>\n",
       "<tr><td>Danforth</td><td>Frank</td></tr>\n",
       "</table>"
      ],
      "text/plain": [
       "<IPython.core.display.HTML object>"
      ]
     },
     "metadata": {},
     "output_type": "display_data"
    }
   ],
   "source": [
    "%%sqlite survey.db\n",
    "SELECT family, personal FROM Person;"
   ]
  },
  {
   "cell_type": "code",
   "execution_count": 137,
   "metadata": {
    "collapsed": false
   },
   "outputs": [
    {
     "data": {
      "text/html": [
       "<table>\n",
       "<tr><th>ident</th><th>personal</th><th>family</th></tr><tr><td>dyer</td><td>William</td><td>Dyer</td></tr>\n",
       "<tr><td>pb</td><td>Frank</td><td>Pabodie</td></tr>\n",
       "<tr><td>lake</td><td>Anderson</td><td>Lake</td></tr>\n",
       "<tr><td>roe</td><td>Valentina</td><td>Roerich</td></tr>\n",
       "<tr><td>danforth</td><td>Frank</td><td>Danforth</td></tr>\n",
       "</table>"
      ],
      "text/plain": [
       "<IPython.core.display.HTML object>"
      ]
     },
     "metadata": {},
     "output_type": "display_data"
    }
   ],
   "source": [
    "%%sqlite survey.db\n",
    "SELECT * FROM Person;"
   ]
  },
  {
   "cell_type": "code",
   "execution_count": 138,
   "metadata": {
    "collapsed": false
   },
   "outputs": [
    {
     "data": {
      "text/html": [
       "<table>\n",
       "<tr><th>ident</th><th>ident</th><th>ident</th></tr><tr><td>dyer</td><td>dyer</td><td>dyer</td></tr>\n",
       "<tr><td>pb</td><td>pb</td><td>pb</td></tr>\n",
       "<tr><td>lake</td><td>lake</td><td>lake</td></tr>\n",
       "<tr><td>roe</td><td>roe</td><td>roe</td></tr>\n",
       "<tr><td>danforth</td><td>danforth</td><td>danforth</td></tr>\n",
       "</table>"
      ],
      "text/plain": [
       "<IPython.core.display.HTML object>"
      ]
     },
     "metadata": {},
     "output_type": "display_data"
    }
   ],
   "source": [
    "%%sqlite survey.db\n",
    "SELECT ident, ident, ident FROM Person;"
   ]
  },
  {
   "cell_type": "code",
   "execution_count": 139,
   "metadata": {
    "collapsed": false
   },
   "outputs": [
    {
     "data": {
      "text/html": [
       "<table>\n",
       "<tr><th>ident</th><th>personal</th><th>family</th></tr><tr><td>dyer</td><td>William</td><td>Dyer</td></tr>\n",
       "<tr><td>pb</td><td>Frank</td><td>Pabodie</td></tr>\n",
       "<tr><td>lake</td><td>Anderson</td><td>Lake</td></tr>\n",
       "<tr><td>roe</td><td>Valentina</td><td>Roerich</td></tr>\n",
       "<tr><td>danforth</td><td>Frank</td><td>Danforth</td></tr>\n",
       "</table>"
      ],
      "text/plain": [
       "<IPython.core.display.HTML object>"
      ]
     },
     "metadata": {},
     "output_type": "display_data"
    }
   ],
   "source": [
    "%%sqlite survey.db\n",
    "SELECT * FROM Person;"
   ]
  },
  {
   "cell_type": "code",
   "execution_count": 144,
   "metadata": {
    "collapsed": false
   },
   "outputs": [
    {
     "data": {
      "text/html": [
       "<table>\n",
       "<tr><th>name</th><th>lat</th><th>long</th></tr><tr><td>DR-1</td><td>-49.85</td><td>-128.57</td></tr>\n",
       "<tr><td>DR-3</td><td>-47.15</td><td>-126.72</td></tr>\n",
       "<tr><td>MSK-4</td><td>-48.87</td><td>-123.4</td></tr>\n",
       "</table>"
      ],
      "text/plain": [
       "<IPython.core.display.HTML object>"
      ]
     },
     "metadata": {},
     "output_type": "display_data"
    }
   ],
   "source": [
    "%%sqlite survey.db\n",
    "SELECT * FROM Site;"
   ]
  },
  {
   "cell_type": "code",
   "execution_count": 145,
   "metadata": {
    "collapsed": false
   },
   "outputs": [
    {
     "data": {
      "text/html": [
       "<table>\n",
       "<tr><th>taken</th><th>person</th><th>quant</th><th>reading</th></tr><tr><td>619</td><td>dyer</td><td>rad</td><td>9.82</td></tr>\n",
       "<tr><td>619</td><td>dyer</td><td>sal</td><td>0.13</td></tr>\n",
       "<tr><td>622</td><td>dyer</td><td>rad</td><td>7.8</td></tr>\n",
       "<tr><td>622</td><td>dyer</td><td>sal</td><td>0.09</td></tr>\n",
       "<tr><td>734</td><td>pb</td><td>rad</td><td>8.41</td></tr>\n",
       "<tr><td>734</td><td>lake</td><td>sal</td><td>0.05</td></tr>\n",
       "<tr><td>734</td><td>pb</td><td>temp</td><td>-21.5</td></tr>\n",
       "<tr><td>735</td><td>pb</td><td>rad</td><td>7.22</td></tr>\n",
       "<tr><td>735</td><td>NULL</td><td>sal</td><td>0.06</td></tr>\n",
       "<tr><td>735</td><td>NULL</td><td>temp</td><td>-26.0</td></tr>\n",
       "<tr><td>751</td><td>pb</td><td>rad</td><td>4.35</td></tr>\n",
       "<tr><td>751</td><td>pb</td><td>temp</td><td>-18.5</td></tr>\n",
       "<tr><td>751</td><td>lake</td><td>sal</td><td>0.1</td></tr>\n",
       "<tr><td>752</td><td>lake</td><td>rad</td><td>2.19</td></tr>\n",
       "<tr><td>752</td><td>lake</td><td>sal</td><td>0.09</td></tr>\n",
       "<tr><td>752</td><td>lake</td><td>temp</td><td>-16.0</td></tr>\n",
       "<tr><td>752</td><td>roe</td><td>sal</td><td>41.6</td></tr>\n",
       "<tr><td>837</td><td>lake</td><td>rad</td><td>1.46</td></tr>\n",
       "<tr><td>837</td><td>lake</td><td>sal</td><td>0.21</td></tr>\n",
       "<tr><td>837</td><td>roe</td><td>sal</td><td>22.5</td></tr>\n",
       "<tr><td>844</td><td>roe</td><td>rad</td><td>11.25</td></tr>\n",
       "</table>"
      ],
      "text/plain": [
       "<IPython.core.display.HTML object>"
      ]
     },
     "metadata": {},
     "output_type": "display_data"
    }
   ],
   "source": [
    "%%sqlite survey.db\n",
    "SELECT * FROM Survey;"
   ]
  },
  {
   "cell_type": "code",
   "execution_count": 146,
   "metadata": {
    "collapsed": false
   },
   "outputs": [
    {
     "data": {
      "text/html": [
       "<table>\n",
       "<tr><th>quant</th></tr><tr><td>rad</td></tr>\n",
       "<tr><td>sal</td></tr>\n",
       "<tr><td>rad</td></tr>\n",
       "<tr><td>sal</td></tr>\n",
       "<tr><td>rad</td></tr>\n",
       "<tr><td>sal</td></tr>\n",
       "<tr><td>temp</td></tr>\n",
       "<tr><td>rad</td></tr>\n",
       "<tr><td>sal</td></tr>\n",
       "<tr><td>temp</td></tr>\n",
       "<tr><td>rad</td></tr>\n",
       "<tr><td>temp</td></tr>\n",
       "<tr><td>sal</td></tr>\n",
       "<tr><td>rad</td></tr>\n",
       "<tr><td>sal</td></tr>\n",
       "<tr><td>temp</td></tr>\n",
       "<tr><td>sal</td></tr>\n",
       "<tr><td>rad</td></tr>\n",
       "<tr><td>sal</td></tr>\n",
       "<tr><td>sal</td></tr>\n",
       "<tr><td>rad</td></tr>\n",
       "</table>"
      ],
      "text/plain": [
       "<IPython.core.display.HTML object>"
      ]
     },
     "metadata": {},
     "output_type": "display_data"
    }
   ],
   "source": [
    "%%sqlite survey.db\n",
    "SELECT quant FROM Survey;"
   ]
  },
  {
   "cell_type": "code",
   "execution_count": 147,
   "metadata": {
    "collapsed": false
   },
   "outputs": [
    {
     "data": {
      "text/html": [
       "<table>\n",
       "<tr><th>quant</th></tr><tr><td>rad</td></tr>\n",
       "<tr><td>sal</td></tr>\n",
       "<tr><td>temp</td></tr>\n",
       "</table>"
      ],
      "text/plain": [
       "<IPython.core.display.HTML object>"
      ]
     },
     "metadata": {},
     "output_type": "display_data"
    }
   ],
   "source": [
    "%%sqlite survey.db\n",
    "SELECT DISTINCT quant FROM Survey;"
   ]
  },
  {
   "cell_type": "code",
   "execution_count": 148,
   "metadata": {
    "collapsed": false
   },
   "outputs": [
    {
     "data": {
      "text/html": [
       "<table>\n",
       "<tr><th>taken</th><th>quant</th></tr><tr><td>619</td><td>rad</td></tr>\n",
       "<tr><td>619</td><td>sal</td></tr>\n",
       "<tr><td>622</td><td>rad</td></tr>\n",
       "<tr><td>622</td><td>sal</td></tr>\n",
       "<tr><td>734</td><td>rad</td></tr>\n",
       "<tr><td>734</td><td>sal</td></tr>\n",
       "<tr><td>734</td><td>temp</td></tr>\n",
       "<tr><td>735</td><td>rad</td></tr>\n",
       "<tr><td>735</td><td>sal</td></tr>\n",
       "<tr><td>735</td><td>temp</td></tr>\n",
       "<tr><td>751</td><td>rad</td></tr>\n",
       "<tr><td>751</td><td>temp</td></tr>\n",
       "<tr><td>751</td><td>sal</td></tr>\n",
       "<tr><td>752</td><td>rad</td></tr>\n",
       "<tr><td>752</td><td>sal</td></tr>\n",
       "<tr><td>752</td><td>temp</td></tr>\n",
       "<tr><td>837</td><td>rad</td></tr>\n",
       "<tr><td>837</td><td>sal</td></tr>\n",
       "<tr><td>844</td><td>rad</td></tr>\n",
       "</table>"
      ],
      "text/plain": [
       "<IPython.core.display.HTML object>"
      ]
     },
     "metadata": {},
     "output_type": "display_data"
    }
   ],
   "source": [
    "%%sqlite survey.db\n",
    "SELECT DISTINCT taken, quant FROM Survey;"
   ]
  },
  {
   "cell_type": "code",
   "execution_count": 149,
   "metadata": {
    "collapsed": false
   },
   "outputs": [
    {
     "data": {
      "text/html": [
       "<table>\n",
       "<tr><th>ident</th><th>personal</th><th>family</th></tr><tr><td>danforth</td><td>Frank</td><td>Danforth</td></tr>\n",
       "<tr><td>dyer</td><td>William</td><td>Dyer</td></tr>\n",
       "<tr><td>lake</td><td>Anderson</td><td>Lake</td></tr>\n",
       "<tr><td>pb</td><td>Frank</td><td>Pabodie</td></tr>\n",
       "<tr><td>roe</td><td>Valentina</td><td>Roerich</td></tr>\n",
       "</table>"
      ],
      "text/plain": [
       "<IPython.core.display.HTML object>"
      ]
     },
     "metadata": {},
     "output_type": "display_data"
    }
   ],
   "source": [
    "%%sqlite survey.db\n",
    "SELECT * FROM Person ORDER BY ident;"
   ]
  },
  {
   "cell_type": "code",
   "execution_count": 150,
   "metadata": {
    "collapsed": false
   },
   "outputs": [
    {
     "data": {
      "text/html": [
       "<table>\n",
       "<tr><th>ident</th><th>personal</th><th>family</th></tr><tr><td>roe</td><td>Valentina</td><td>Roerich</td></tr>\n",
       "<tr><td>pb</td><td>Frank</td><td>Pabodie</td></tr>\n",
       "<tr><td>lake</td><td>Anderson</td><td>Lake</td></tr>\n",
       "<tr><td>dyer</td><td>William</td><td>Dyer</td></tr>\n",
       "<tr><td>danforth</td><td>Frank</td><td>Danforth</td></tr>\n",
       "</table>"
      ],
      "text/plain": [
       "<IPython.core.display.HTML object>"
      ]
     },
     "metadata": {},
     "output_type": "display_data"
    }
   ],
   "source": [
    "%%sqlite survey.db\n",
    "SELECT * FROM Person ORDER BY ident DESC;"
   ]
  },
  {
   "cell_type": "code",
   "execution_count": 151,
   "metadata": {
    "collapsed": false
   },
   "outputs": [
    {
     "data": {
      "text/html": [
       "<table>\n",
       "<tr><th>taken</th><th>person</th><th>quant</th></tr><tr><td>619</td><td>dyer</td><td>rad</td></tr>\n",
       "<tr><td>619</td><td>dyer</td><td>sal</td></tr>\n",
       "<tr><td>622</td><td>dyer</td><td>rad</td></tr>\n",
       "<tr><td>622</td><td>dyer</td><td>sal</td></tr>\n",
       "<tr><td>734</td><td>pb</td><td>rad</td></tr>\n",
       "<tr><td>734</td><td>pb</td><td>temp</td></tr>\n",
       "<tr><td>734</td><td>lake</td><td>sal</td></tr>\n",
       "<tr><td>735</td><td>pb</td><td>rad</td></tr>\n",
       "<tr><td>735</td><td>NULL</td><td>sal</td></tr>\n",
       "<tr><td>735</td><td>NULL</td><td>temp</td></tr>\n",
       "<tr><td>751</td><td>pb</td><td>rad</td></tr>\n",
       "<tr><td>751</td><td>pb</td><td>temp</td></tr>\n",
       "<tr><td>751</td><td>lake</td><td>sal</td></tr>\n",
       "<tr><td>752</td><td>roe</td><td>sal</td></tr>\n",
       "<tr><td>752</td><td>lake</td><td>rad</td></tr>\n",
       "<tr><td>752</td><td>lake</td><td>sal</td></tr>\n",
       "<tr><td>752</td><td>lake</td><td>temp</td></tr>\n",
       "<tr><td>837</td><td>roe</td><td>sal</td></tr>\n",
       "<tr><td>837</td><td>lake</td><td>rad</td></tr>\n",
       "<tr><td>837</td><td>lake</td><td>sal</td></tr>\n",
       "<tr><td>844</td><td>roe</td><td>rad</td></tr>\n",
       "</table>"
      ],
      "text/plain": [
       "<IPython.core.display.HTML object>"
      ]
     },
     "metadata": {},
     "output_type": "display_data"
    }
   ],
   "source": [
    "%%sqlite survey.db\n",
    "SELECT taken, person, quant\n",
    "FROM Survey\n",
    "ORDER BY taken ASC, person DESC;"
   ]
  },
  {
   "cell_type": "code",
   "execution_count": 152,
   "metadata": {
    "collapsed": false
   },
   "outputs": [
    {
     "data": {
      "text/html": [
       "<table>\n",
       "<tr><th>quant</th><th>person</th></tr><tr><td>rad</td><td>dyer</td></tr>\n",
       "<tr><td>rad</td><td>pb</td></tr>\n",
       "<tr><td>rad</td><td>lake</td></tr>\n",
       "<tr><td>rad</td><td>roe</td></tr>\n",
       "<tr><td>sal</td><td>dyer</td></tr>\n",
       "<tr><td>sal</td><td>lake</td></tr>\n",
       "<tr><td>sal</td><td>NULL</td></tr>\n",
       "<tr><td>sal</td><td>roe</td></tr>\n",
       "<tr><td>temp</td><td>pb</td></tr>\n",
       "<tr><td>temp</td><td>NULL</td></tr>\n",
       "<tr><td>temp</td><td>lake</td></tr>\n",
       "</table>"
      ],
      "text/plain": [
       "<IPython.core.display.HTML object>"
      ]
     },
     "metadata": {},
     "output_type": "display_data"
    }
   ],
   "source": [
    "%%sqlite survey.db\n",
    "SELECT DISTINCT quant, person\n",
    "FROM Survey\n",
    "ORDER BY quant ASC;"
   ]
  },
  {
   "cell_type": "code",
   "execution_count": 154,
   "metadata": {
    "collapsed": false
   },
   "outputs": [
    {
     "data": {
      "text/html": [
       "<table>\n",
       "<tr><th>dated</th></tr><tr><td>1927-02-08</td></tr>\n",
       "<tr><td>1927-02-10</td></tr>\n",
       "<tr><td>1939-01-07</td></tr>\n",
       "<tr><td>1930-01-12</td></tr>\n",
       "<tr><td>1930-02-26</td></tr>\n",
       "<tr><td>NULL</td></tr>\n",
       "<tr><td>1932-01-14</td></tr>\n",
       "<tr><td>1932-03-22</td></tr>\n",
       "</table>"
      ],
      "text/plain": [
       "<IPython.core.display.HTML object>"
      ]
     },
     "metadata": {},
     "output_type": "display_data"
    }
   ],
   "source": [
    "%%sqlite survey.db\n",
    "-- Write a query that selects distinct dates from the Visited table\n",
    "SELECT DISTINCT dated FROM Visited;"
   ]
  },
  {
   "cell_type": "code",
   "execution_count": 156,
   "metadata": {
    "collapsed": false
   },
   "outputs": [
    {
     "data": {
      "text/html": [
       "<table>\n",
       "<tr><th>personal</th><th>family</th></tr><tr><td>Frank</td><td>Danforth</td></tr>\n",
       "<tr><td>William</td><td>Dyer</td></tr>\n",
       "<tr><td>Anderson</td><td>Lake</td></tr>\n",
       "<tr><td>Frank</td><td>Pabodie</td></tr>\n",
       "<tr><td>Valentina</td><td>Roerich</td></tr>\n",
       "</table>"
      ],
      "text/plain": [
       "<IPython.core.display.HTML object>"
      ]
     },
     "metadata": {},
     "output_type": "display_data"
    }
   ],
   "source": [
    "%%sqlite survey.db\n",
    "-- query that displays the full names\n",
    "-- of the scientists in the Person table,\n",
    "-- ordered by family name\n",
    "SELECT personal, family FROM Person\n",
    "ORDER BY family;"
   ]
  },
  {
   "cell_type": "code",
   "execution_count": 157,
   "metadata": {
    "collapsed": false
   },
   "outputs": [
    {
     "data": {
      "text/html": [
       "<table>\n",
       "<tr><th>ident</th><th>site</th><th>dated</th></tr><tr><td>619</td><td>DR-1</td><td>1927-02-08</td></tr>\n",
       "<tr><td>622</td><td>DR-1</td><td>1927-02-10</td></tr>\n",
       "<tr><td>844</td><td>DR-1</td><td>1932-03-22</td></tr>\n",
       "</table>"
      ],
      "text/plain": [
       "<IPython.core.display.HTML object>"
      ]
     },
     "metadata": {},
     "output_type": "display_data"
    }
   ],
   "source": [
    "%%sqlite survey.db\n",
    "SELECT * FROM Visited WHERE site='DR-1';"
   ]
  },
  {
   "cell_type": "code",
   "execution_count": 158,
   "metadata": {
    "collapsed": false
   },
   "outputs": [
    {
     "data": {
      "text/html": [
       "<table>\n",
       "<tr><th>ident</th><th>site</th><th>dated</th></tr><tr><td>619</td><td>DR-1</td><td>1927-02-08</td></tr>\n",
       "<tr><td>622</td><td>DR-1</td><td>1927-02-10</td></tr>\n",
       "</table>"
      ],
      "text/plain": [
       "<IPython.core.display.HTML object>"
      ]
     },
     "metadata": {},
     "output_type": "display_data"
    }
   ],
   "source": [
    "%%sqlite survey.db\n",
    "SELECT * FROM Visited\n",
    "WHERE site='DR-1'\n",
    "AND dated<'1930-01-01';"
   ]
  },
  {
   "cell_type": "code",
   "execution_count": 159,
   "metadata": {
    "collapsed": false
   },
   "outputs": [
    {
     "data": {
      "text/html": [
       "<table>\n",
       "<tr><th>taken</th><th>person</th><th>quant</th><th>reading</th></tr><tr><td>734</td><td>lake</td><td>sal</td><td>0.05</td></tr>\n",
       "<tr><td>751</td><td>lake</td><td>sal</td><td>0.1</td></tr>\n",
       "<tr><td>752</td><td>lake</td><td>rad</td><td>2.19</td></tr>\n",
       "<tr><td>752</td><td>lake</td><td>sal</td><td>0.09</td></tr>\n",
       "<tr><td>752</td><td>lake</td><td>temp</td><td>-16.0</td></tr>\n",
       "<tr><td>752</td><td>roe</td><td>sal</td><td>41.6</td></tr>\n",
       "<tr><td>837</td><td>lake</td><td>rad</td><td>1.46</td></tr>\n",
       "<tr><td>837</td><td>lake</td><td>sal</td><td>0.21</td></tr>\n",
       "<tr><td>837</td><td>roe</td><td>sal</td><td>22.5</td></tr>\n",
       "<tr><td>844</td><td>roe</td><td>rad</td><td>11.25</td></tr>\n",
       "</table>"
      ],
      "text/plain": [
       "<IPython.core.display.HTML object>"
      ]
     },
     "metadata": {},
     "output_type": "display_data"
    }
   ],
   "source": [
    "%%sqlite survey.db\n",
    "SELECT * FROM Survey\n",
    "WHERE person='lake' OR person='roe';"
   ]
  },
  {
   "cell_type": "code",
   "execution_count": 160,
   "metadata": {
    "collapsed": false
   },
   "outputs": [
    {
     "data": {
      "text/html": [
       "<table>\n",
       "<tr><th>taken</th><th>person</th><th>quant</th><th>reading</th></tr><tr><td>734</td><td>lake</td><td>sal</td><td>0.05</td></tr>\n",
       "<tr><td>751</td><td>lake</td><td>sal</td><td>0.1</td></tr>\n",
       "<tr><td>752</td><td>lake</td><td>rad</td><td>2.19</td></tr>\n",
       "<tr><td>752</td><td>lake</td><td>sal</td><td>0.09</td></tr>\n",
       "<tr><td>752</td><td>lake</td><td>temp</td><td>-16.0</td></tr>\n",
       "<tr><td>752</td><td>roe</td><td>sal</td><td>41.6</td></tr>\n",
       "<tr><td>837</td><td>lake</td><td>rad</td><td>1.46</td></tr>\n",
       "<tr><td>837</td><td>lake</td><td>sal</td><td>0.21</td></tr>\n",
       "<tr><td>837</td><td>roe</td><td>sal</td><td>22.5</td></tr>\n",
       "<tr><td>844</td><td>roe</td><td>rad</td><td>11.25</td></tr>\n",
       "</table>"
      ],
      "text/plain": [
       "<IPython.core.display.HTML object>"
      ]
     },
     "metadata": {},
     "output_type": "display_data"
    }
   ],
   "source": [
    "%%sqlite survey.db\n",
    "SELECT * FROM Survey\n",
    "WHERE person IN ('lake','roe');"
   ]
  },
  {
   "cell_type": "code",
   "execution_count": 161,
   "metadata": {
    "collapsed": false
   },
   "outputs": [
    {
     "data": {
      "text/html": [
       "<table>\n",
       "<tr><th>taken</th><th>person</th><th>quant</th><th>reading</th></tr><tr><td>734</td><td>lake</td><td>sal</td><td>0.05</td></tr>\n",
       "<tr><td>751</td><td>lake</td><td>sal</td><td>0.1</td></tr>\n",
       "<tr><td>752</td><td>lake</td><td>sal</td><td>0.09</td></tr>\n",
       "<tr><td>752</td><td>roe</td><td>sal</td><td>41.6</td></tr>\n",
       "<tr><td>837</td><td>lake</td><td>sal</td><td>0.21</td></tr>\n",
       "<tr><td>837</td><td>roe</td><td>sal</td><td>22.5</td></tr>\n",
       "<tr><td>844</td><td>roe</td><td>rad</td><td>11.25</td></tr>\n",
       "</table>"
      ],
      "text/plain": [
       "<IPython.core.display.HTML object>"
      ]
     },
     "metadata": {},
     "output_type": "display_data"
    }
   ],
   "source": [
    "%%sqlite survey.db\n",
    "SELECT * FROM Survey\n",
    "WHERE quant='sal'\n",
    "AND person='lake' OR person='roe';"
   ]
  },
  {
   "cell_type": "code",
   "execution_count": 162,
   "metadata": {
    "collapsed": false
   },
   "outputs": [
    {
     "data": {
      "text/html": [
       "<table>\n",
       "<tr><th>taken</th><th>person</th><th>quant</th><th>reading</th></tr><tr><td>734</td><td>lake</td><td>sal</td><td>0.05</td></tr>\n",
       "<tr><td>751</td><td>lake</td><td>sal</td><td>0.1</td></tr>\n",
       "<tr><td>752</td><td>lake</td><td>sal</td><td>0.09</td></tr>\n",
       "<tr><td>752</td><td>roe</td><td>sal</td><td>41.6</td></tr>\n",
       "<tr><td>837</td><td>lake</td><td>sal</td><td>0.21</td></tr>\n",
       "<tr><td>837</td><td>roe</td><td>sal</td><td>22.5</td></tr>\n",
       "</table>"
      ],
      "text/plain": [
       "<IPython.core.display.HTML object>"
      ]
     },
     "metadata": {},
     "output_type": "display_data"
    }
   ],
   "source": [
    "%%sqlite survey.db\n",
    "SELECT * FROM Survey\n",
    "WHERE quant='sal'\n",
    "AND (person='lake' OR person='roe');"
   ]
  },
  {
   "cell_type": "code",
   "execution_count": 163,
   "metadata": {
    "collapsed": false
   },
   "outputs": [
    {
     "data": {
      "text/html": [
       "<table>\n",
       "<tr><th>ident</th><th>site</th><th>dated</th></tr><tr><td>619</td><td>DR-1</td><td>1927-02-08</td></tr>\n",
       "<tr><td>622</td><td>DR-1</td><td>1927-02-10</td></tr>\n",
       "<tr><td>734</td><td>DR-3</td><td>1939-01-07</td></tr>\n",
       "<tr><td>735</td><td>DR-3</td><td>1930-01-12</td></tr>\n",
       "<tr><td>751</td><td>DR-3</td><td>1930-02-26</td></tr>\n",
       "<tr><td>752</td><td>DR-3</td><td>NULL</td></tr>\n",
       "<tr><td>844</td><td>DR-1</td><td>1932-03-22</td></tr>\n",
       "</table>"
      ],
      "text/plain": [
       "<IPython.core.display.HTML object>"
      ]
     },
     "metadata": {},
     "output_type": "display_data"
    }
   ],
   "source": [
    "%%sqlite survey.db\n",
    "SELECT * FROM Visited WHERE site LIKE 'DR%';"
   ]
  },
  {
   "cell_type": "code",
   "execution_count": 167,
   "metadata": {
    "collapsed": false
   },
   "outputs": [
    {
     "data": {
      "text/html": [
       "<table>\n",
       "<tr><th>person</th><th>quant</th></tr><tr><td>lake</td><td>sal</td></tr>\n",
       "<tr><td>lake</td><td>rad</td></tr>\n",
       "<tr><td>lake</td><td>temp</td></tr>\n",
       "<tr><td>roe</td><td>sal</td></tr>\n",
       "<tr><td>roe</td><td>rad</td></tr>\n",
       "</table>"
      ],
      "text/plain": [
       "<IPython.core.display.HTML object>"
      ]
     },
     "metadata": {},
     "output_type": "display_data"
    }
   ],
   "source": [
    "%%sqlite survey.db\n",
    "SELECT DISTINCT person, quant\n",
    "FROM Survey\n",
    "WHERE person IN ('lake', 'roe');"
   ]
  },
  {
   "cell_type": "code",
   "execution_count": 176,
   "metadata": {
    "collapsed": false
   },
   "outputs": [
    {
     "data": {
      "text/html": [
       "<table>\n",
       "<tr><th>name</th><th>lat</th><th>long</th></tr><tr><td>DR-1</td><td>-49.85</td><td>-128.57</td></tr>\n",
       "<tr><td>DR-3</td><td>-47.15</td><td>-126.72</td></tr>\n",
       "<tr><td>MSK-4</td><td>-48.87</td><td>-123.4</td></tr>\n",
       "</table>"
      ],
      "text/plain": [
       "<IPython.core.display.HTML object>"
      ]
     },
     "metadata": {},
     "output_type": "display_data"
    }
   ],
   "source": [
    "%%sqlite survey.db\n",
    "SELECT * FROM Site\n",
    "WHERE lat > -60 AND lat < 60;"
   ]
  },
  {
   "cell_type": "code",
   "execution_count": 173,
   "metadata": {
    "collapsed": false
   },
   "outputs": [
    {
     "data": {
      "text/html": [
       "<table>\n",
       "<tr><th>taken</th><th>person</th><th>quant</th><th>reading</th></tr><tr><td>752</td><td>roe</td><td>sal</td><td>41.6</td></tr>\n",
       "<tr><td>837</td><td>roe</td><td>sal</td><td>22.5</td></tr>\n",
       "</table>"
      ],
      "text/plain": [
       "<IPython.core.display.HTML object>"
      ]
     },
     "metadata": {},
     "output_type": "display_data"
    }
   ],
   "source": [
    "%%sqlite survey.db\n",
    "-- Normalized salinity (sal) readings are supposed to be\n",
    "-- between 0 and 1. Write a query that selects all records\n",
    "-- from Survey with salinity values outside of this range\n",
    "SELECT * FROM Survey\n",
    "WHERE quant='sal'\n",
    "AND (reading<0 OR reading>1);"
   ]
  },
  {
   "cell_type": "code",
   "execution_count": 177,
   "metadata": {
    "collapsed": false
   },
   "outputs": [
    {
     "data": {
      "text/html": [
       "<table>\n",
       "<tr><th>1.05 * reading</th></tr><tr><td>10.311</td></tr>\n",
       "<tr><td>8.19</td></tr>\n",
       "<tr><td>8.8305</td></tr>\n",
       "<tr><td>7.581</td></tr>\n",
       "<tr><td>4.5675</td></tr>\n",
       "<tr><td>2.2995</td></tr>\n",
       "<tr><td>1.533</td></tr>\n",
       "<tr><td>11.8125</td></tr>\n",
       "</table>"
      ],
      "text/plain": [
       "<IPython.core.display.HTML object>"
      ]
     },
     "metadata": {},
     "output_type": "display_data"
    }
   ],
   "source": [
    "%%sqlite survey.db\n",
    "SELECT 1.05 * reading\n",
    "FROM Survey\n",
    "WHERE quant='rad';"
   ]
  },
  {
   "cell_type": "code",
   "execution_count": 179,
   "metadata": {
    "collapsed": false
   },
   "outputs": [
    {
     "data": {
      "text/html": [
       "<table>\n",
       "<tr><th>taken</th><th>quant</th><th>round(5*(reading-32)/9, 2)</th></tr><tr><td>734</td><td>temp</td><td>-29.72</td></tr>\n",
       "<tr><td>735</td><td>temp</td><td>-32.22</td></tr>\n",
       "<tr><td>751</td><td>temp</td><td>-28.06</td></tr>\n",
       "<tr><td>752</td><td>temp</td><td>-26.67</td></tr>\n",
       "</table>"
      ],
      "text/plain": [
       "<IPython.core.display.HTML object>"
      ]
     },
     "metadata": {},
     "output_type": "display_data"
    }
   ],
   "source": [
    "%%sqlite survey.db\n",
    "SELECT taken, quant, round(5*(reading-32)/9, 2)\n",
    "FROM Survey\n",
    "WHERE quant='temp';"
   ]
  },
  {
   "cell_type": "code",
   "execution_count": 183,
   "metadata": {
    "collapsed": false
   },
   "outputs": [
    {
     "data": {
      "text/html": [
       "<table>\n",
       "<tr><th>personal || ' ' || family</th></tr><tr><td>William Dyer</td></tr>\n",
       "<tr><td>Frank Pabodie</td></tr>\n",
       "<tr><td>Anderson Lake</td></tr>\n",
       "<tr><td>Valentina Roerich</td></tr>\n",
       "<tr><td>Frank Danforth</td></tr>\n",
       "</table>"
      ],
      "text/plain": [
       "<IPython.core.display.HTML object>"
      ]
     },
     "metadata": {},
     "output_type": "display_data"
    }
   ],
   "source": [
    "%%sqlite survey.db\n",
    "SELECT personal || ' ' || family\n",
    "FROM Person;"
   ]
  },
  {
   "cell_type": "code",
   "execution_count": 184,
   "metadata": {
    "collapsed": false
   },
   "outputs": [
    {
     "data": {
      "text/html": [
       "<table>\n",
       "<tr><th>dated</th></tr><tr><td>1927-02-08</td></tr>\n",
       "<tr><td>1927-02-10</td></tr>\n",
       "<tr><td>1939-01-07</td></tr>\n",
       "<tr><td>1930-01-12</td></tr>\n",
       "<tr><td>1930-02-26</td></tr>\n",
       "<tr><td>NULL</td></tr>\n",
       "<tr><td>1932-01-14</td></tr>\n",
       "<tr><td>1932-03-22</td></tr>\n",
       "</table>"
      ],
      "text/plain": [
       "<IPython.core.display.HTML object>"
      ]
     },
     "metadata": {},
     "output_type": "display_data"
    }
   ],
   "source": [
    "%%sqlite survey.db\n",
    "SELECT dated FROM Visited;"
   ]
  },
  {
   "cell_type": "code",
   "execution_count": 185,
   "metadata": {
    "collapsed": false
   },
   "outputs": [
    {
     "data": {
      "text/html": [
       "<table>\n",
       "<tr><th>min(dated)</th></tr><tr><td>1927-02-08</td></tr>\n",
       "</table>"
      ],
      "text/plain": [
       "<IPython.core.display.HTML object>"
      ]
     },
     "metadata": {},
     "output_type": "display_data"
    }
   ],
   "source": [
    "%%sqlite survey.db\n",
    "SELECT min(dated) FROM Visited;"
   ]
  },
  {
   "cell_type": "code",
   "execution_count": 186,
   "metadata": {
    "collapsed": false
   },
   "outputs": [
    {
     "data": {
      "text/html": [
       "<table>\n",
       "<tr><th>max(dated)</th></tr><tr><td>1939-01-07</td></tr>\n",
       "</table>"
      ],
      "text/plain": [
       "<IPython.core.display.HTML object>"
      ]
     },
     "metadata": {},
     "output_type": "display_data"
    }
   ],
   "source": [
    "%%sqlite survey.db\n",
    "SELECT max(dated) FROM Visited;"
   ]
  },
  {
   "cell_type": "code",
   "execution_count": 187,
   "metadata": {
    "collapsed": false
   },
   "outputs": [
    {
     "data": {
      "text/html": [
       "<table>\n",
       "<tr><th>avg(reading)</th></tr><tr><td>7.203333333333335</td></tr>\n",
       "</table>"
      ],
      "text/plain": [
       "<IPython.core.display.HTML object>"
      ]
     },
     "metadata": {},
     "output_type": "display_data"
    }
   ],
   "source": [
    "%%sqlite survey.db\n",
    "SELECT avg(reading) FROM Survey\n",
    "WHERE quant='sal';"
   ]
  },
  {
   "cell_type": "code",
   "execution_count": 190,
   "metadata": {
    "collapsed": false
   },
   "outputs": [
    {
     "data": {
      "text/html": [
       "<table>\n",
       "<tr><th>count(reading)</th></tr><tr><td>9</td></tr>\n",
       "</table>"
      ],
      "text/plain": [
       "<IPython.core.display.HTML object>"
      ]
     },
     "metadata": {},
     "output_type": "display_data"
    }
   ],
   "source": [
    "%%sqlite survey.db\n",
    "SELECT count(reading) FROM Survey\n",
    "WHERE quant='sal';"
   ]
  },
  {
   "cell_type": "code",
   "execution_count": 191,
   "metadata": {
    "collapsed": false
   },
   "outputs": [
    {
     "data": {
      "text/html": [
       "<table>\n",
       "<tr><th>count(*)</th></tr><tr><td>9</td></tr>\n",
       "</table>"
      ],
      "text/plain": [
       "<IPython.core.display.HTML object>"
      ]
     },
     "metadata": {},
     "output_type": "display_data"
    }
   ],
   "source": [
    "%%sqlite survey.db\n",
    "SELECT count(*) FROM Survey\n",
    "WHERE quant='sal';"
   ]
  },
  {
   "cell_type": "code",
   "execution_count": 192,
   "metadata": {
    "collapsed": false
   },
   "outputs": [
    {
     "data": {
      "text/html": [
       "<table>\n",
       "<tr><th>sum(reading)</th></tr><tr><td>64.83000000000001</td></tr>\n",
       "</table>"
      ],
      "text/plain": [
       "<IPython.core.display.HTML object>"
      ]
     },
     "metadata": {},
     "output_type": "display_data"
    }
   ],
   "source": [
    "%%sqlite survey.db\n",
    "SELECT sum(reading) FROM Survey\n",
    "WHERE quant='sal';"
   ]
  },
  {
   "cell_type": "code",
   "execution_count": 195,
   "metadata": {
    "collapsed": false
   },
   "outputs": [
    {
     "data": {
      "text/html": [
       "<table>\n",
       "<tr><th>person</th><th>count(reading)</th><th>round(avg(reading), 2)</th></tr><tr><td>roe</td><td>8</td><td>6.56</td></tr>\n",
       "</table>"
      ],
      "text/plain": [
       "<IPython.core.display.HTML object>"
      ]
     },
     "metadata": {},
     "output_type": "display_data"
    }
   ],
   "source": [
    "%%sqlite survey.db\n",
    "SELECT person, count(reading), round(avg(reading), 2)\n",
    "FROM Survey\n",
    "WHERE quant='rad';"
   ]
  },
  {
   "cell_type": "code",
   "execution_count": 201,
   "metadata": {
    "collapsed": false
   },
   "outputs": [
    {
     "data": {
      "text/html": [
       "<table>\n",
       "<tr><th>person</th><th>quant</th><th>count(reading)</th><th>avg_reading</th></tr><tr><td>dyer</td><td>rad</td><td>2</td><td>8.81</td></tr>\n",
       "<tr><td>lake</td><td>rad</td><td>2</td><td>1.82</td></tr>\n",
       "<tr><td>pb</td><td>rad</td><td>3</td><td>6.66</td></tr>\n",
       "<tr><td>roe</td><td>rad</td><td>1</td><td>11.25</td></tr>\n",
       "</table>"
      ],
      "text/plain": [
       "<IPython.core.display.HTML object>"
      ]
     },
     "metadata": {},
     "output_type": "display_data"
    }
   ],
   "source": [
    "%%sqlite survey.db\n",
    "SELECT person, quant, count(reading),\n",
    "round(avg(reading), 2) AS avg_reading\n",
    "FROM Survey\n",
    "WHERE quant='rad'\n",
    "GROUP BY person;"
   ]
  },
  {
   "cell_type": "code",
   "execution_count": 210,
   "metadata": {
    "collapsed": false
   },
   "outputs": [
    {
     "data": {
      "text/html": [
       "<table>\n",
       "<tr><th>count(*)</th><th>avg(reading)</th></tr><tr><td>2</td><td>-20.0</td></tr>\n",
       "</table>"
      ],
      "text/plain": [
       "<IPython.core.display.HTML object>"
      ]
     },
     "metadata": {},
     "output_type": "display_data"
    }
   ],
   "source": [
    "%%sqlite survey.db\n",
    "-- How many temperature readings did Frank Pabodie record,\n",
    "-- and what was their average value?\n",
    "SELECT count(*), avg(reading) FROM Survey\n",
    "WHERE person='pb'\n",
    "AND quant='temp';"
   ]
  },
  {
   "cell_type": "code",
   "execution_count": 211,
   "metadata": {
    "collapsed": false
   },
   "outputs": [
    {
     "data": {
      "text/html": [
       "<table>\n",
       "<tr><th>name</th><th>lat</th><th>long</th><th>ident</th><th>site</th><th>dated</th></tr><tr><td>DR-1</td><td>-49.85</td><td>-128.57</td><td>619</td><td>DR-1</td><td>1927-02-08</td></tr>\n",
       "<tr><td>DR-1</td><td>-49.85</td><td>-128.57</td><td>622</td><td>DR-1</td><td>1927-02-10</td></tr>\n",
       "<tr><td>DR-1</td><td>-49.85</td><td>-128.57</td><td>734</td><td>DR-3</td><td>1939-01-07</td></tr>\n",
       "<tr><td>DR-1</td><td>-49.85</td><td>-128.57</td><td>735</td><td>DR-3</td><td>1930-01-12</td></tr>\n",
       "<tr><td>DR-1</td><td>-49.85</td><td>-128.57</td><td>751</td><td>DR-3</td><td>1930-02-26</td></tr>\n",
       "<tr><td>DR-1</td><td>-49.85</td><td>-128.57</td><td>752</td><td>DR-3</td><td>NULL</td></tr>\n",
       "<tr><td>DR-1</td><td>-49.85</td><td>-128.57</td><td>837</td><td>MSK-4</td><td>1932-01-14</td></tr>\n",
       "<tr><td>DR-1</td><td>-49.85</td><td>-128.57</td><td>844</td><td>DR-1</td><td>1932-03-22</td></tr>\n",
       "<tr><td>DR-3</td><td>-47.15</td><td>-126.72</td><td>619</td><td>DR-1</td><td>1927-02-08</td></tr>\n",
       "<tr><td>DR-3</td><td>-47.15</td><td>-126.72</td><td>622</td><td>DR-1</td><td>1927-02-10</td></tr>\n",
       "<tr><td>DR-3</td><td>-47.15</td><td>-126.72</td><td>734</td><td>DR-3</td><td>1939-01-07</td></tr>\n",
       "<tr><td>DR-3</td><td>-47.15</td><td>-126.72</td><td>735</td><td>DR-3</td><td>1930-01-12</td></tr>\n",
       "<tr><td>DR-3</td><td>-47.15</td><td>-126.72</td><td>751</td><td>DR-3</td><td>1930-02-26</td></tr>\n",
       "<tr><td>DR-3</td><td>-47.15</td><td>-126.72</td><td>752</td><td>DR-3</td><td>NULL</td></tr>\n",
       "<tr><td>DR-3</td><td>-47.15</td><td>-126.72</td><td>837</td><td>MSK-4</td><td>1932-01-14</td></tr>\n",
       "<tr><td>DR-3</td><td>-47.15</td><td>-126.72</td><td>844</td><td>DR-1</td><td>1932-03-22</td></tr>\n",
       "<tr><td>MSK-4</td><td>-48.87</td><td>-123.4</td><td>619</td><td>DR-1</td><td>1927-02-08</td></tr>\n",
       "<tr><td>MSK-4</td><td>-48.87</td><td>-123.4</td><td>622</td><td>DR-1</td><td>1927-02-10</td></tr>\n",
       "<tr><td>MSK-4</td><td>-48.87</td><td>-123.4</td><td>734</td><td>DR-3</td><td>1939-01-07</td></tr>\n",
       "<tr><td>MSK-4</td><td>-48.87</td><td>-123.4</td><td>735</td><td>DR-3</td><td>1930-01-12</td></tr>\n",
       "<tr><td>MSK-4</td><td>-48.87</td><td>-123.4</td><td>751</td><td>DR-3</td><td>1930-02-26</td></tr>\n",
       "<tr><td>MSK-4</td><td>-48.87</td><td>-123.4</td><td>752</td><td>DR-3</td><td>NULL</td></tr>\n",
       "<tr><td>MSK-4</td><td>-48.87</td><td>-123.4</td><td>837</td><td>MSK-4</td><td>1932-01-14</td></tr>\n",
       "<tr><td>MSK-4</td><td>-48.87</td><td>-123.4</td><td>844</td><td>DR-1</td><td>1932-03-22</td></tr>\n",
       "</table>"
      ],
      "text/plain": [
       "<IPython.core.display.HTML object>"
      ]
     },
     "metadata": {},
     "output_type": "display_data"
    }
   ],
   "source": [
    "%%sqlite survey.db\n",
    "SELECT * FROM Site JOIN Visited;"
   ]
  },
  {
   "cell_type": "code",
   "execution_count": 213,
   "metadata": {
    "collapsed": false
   },
   "outputs": [
    {
     "data": {
      "text/html": [
       "<table>\n",
       "<tr><th>name</th><th>lat</th><th>long</th><th>ident</th><th>site</th><th>dated</th></tr><tr><td>DR-1</td><td>-49.85</td><td>-128.57</td><td>619</td><td>DR-1</td><td>1927-02-08</td></tr>\n",
       "<tr><td>DR-1</td><td>-49.85</td><td>-128.57</td><td>622</td><td>DR-1</td><td>1927-02-10</td></tr>\n",
       "<tr><td>DR-1</td><td>-49.85</td><td>-128.57</td><td>844</td><td>DR-1</td><td>1932-03-22</td></tr>\n",
       "<tr><td>DR-3</td><td>-47.15</td><td>-126.72</td><td>734</td><td>DR-3</td><td>1939-01-07</td></tr>\n",
       "<tr><td>DR-3</td><td>-47.15</td><td>-126.72</td><td>735</td><td>DR-3</td><td>1930-01-12</td></tr>\n",
       "<tr><td>DR-3</td><td>-47.15</td><td>-126.72</td><td>751</td><td>DR-3</td><td>1930-02-26</td></tr>\n",
       "<tr><td>DR-3</td><td>-47.15</td><td>-126.72</td><td>752</td><td>DR-3</td><td>NULL</td></tr>\n",
       "<tr><td>MSK-4</td><td>-48.87</td><td>-123.4</td><td>837</td><td>MSK-4</td><td>1932-01-14</td></tr>\n",
       "</table>"
      ],
      "text/plain": [
       "<IPython.core.display.HTML object>"
      ]
     },
     "metadata": {},
     "output_type": "display_data"
    }
   ],
   "source": [
    "%%sqlite survey.db\n",
    "SELECT * FROM\n",
    "Site JOIN Visited\n",
    "ON Site.name=Visited.site;\n"
   ]
  },
  {
   "cell_type": "code",
   "execution_count": 215,
   "metadata": {
    "collapsed": false
   },
   "outputs": [
    {
     "data": {
      "text/html": [
       "<table>\n",
       "<tr><th>lat</th><th>long</th><th>dated</th><th>quant</th><th>reading</th></tr><tr><td>-49.85</td><td>-128.57</td><td>1927-02-08</td><td>rad</td><td>9.82</td></tr>\n",
       "<tr><td>-49.85</td><td>-128.57</td><td>1927-02-08</td><td>sal</td><td>0.13</td></tr>\n",
       "<tr><td>-49.85</td><td>-128.57</td><td>1927-02-10</td><td>rad</td><td>7.8</td></tr>\n",
       "<tr><td>-49.85</td><td>-128.57</td><td>1927-02-10</td><td>sal</td><td>0.09</td></tr>\n",
       "<tr><td>-47.15</td><td>-126.72</td><td>1939-01-07</td><td>rad</td><td>8.41</td></tr>\n",
       "<tr><td>-47.15</td><td>-126.72</td><td>1939-01-07</td><td>sal</td><td>0.05</td></tr>\n",
       "<tr><td>-47.15</td><td>-126.72</td><td>1939-01-07</td><td>temp</td><td>-21.5</td></tr>\n",
       "<tr><td>-47.15</td><td>-126.72</td><td>1930-01-12</td><td>rad</td><td>7.22</td></tr>\n",
       "<tr><td>-47.15</td><td>-126.72</td><td>1930-01-12</td><td>sal</td><td>0.06</td></tr>\n",
       "<tr><td>-47.15</td><td>-126.72</td><td>1930-01-12</td><td>temp</td><td>-26.0</td></tr>\n",
       "<tr><td>-47.15</td><td>-126.72</td><td>1930-02-26</td><td>rad</td><td>4.35</td></tr>\n",
       "<tr><td>-47.15</td><td>-126.72</td><td>1930-02-26</td><td>sal</td><td>0.1</td></tr>\n",
       "<tr><td>-47.15</td><td>-126.72</td><td>1930-02-26</td><td>temp</td><td>-18.5</td></tr>\n",
       "<tr><td>-48.87</td><td>-123.4</td><td>1932-01-14</td><td>rad</td><td>1.46</td></tr>\n",
       "<tr><td>-48.87</td><td>-123.4</td><td>1932-01-14</td><td>sal</td><td>0.21</td></tr>\n",
       "<tr><td>-48.87</td><td>-123.4</td><td>1932-01-14</td><td>sal</td><td>22.5</td></tr>\n",
       "<tr><td>-49.85</td><td>-128.57</td><td>1932-03-22</td><td>rad</td><td>11.25</td></tr>\n",
       "</table>"
      ],
      "text/plain": [
       "<IPython.core.display.HTML object>"
      ]
     },
     "metadata": {},
     "output_type": "display_data"
    }
   ],
   "source": [
    "%%sqlite survey.db\n",
    "SELECT Site.lat, Site.long, Visited.dated,\n",
    "Survey.quant, Survey.reading\n",
    "FROM Site\n",
    "JOIN Visited ON Site.name=Visited.site\n",
    "JOIN Survey ON Visited.ident=Survey.taken\n",
    "WHERE Visited.dated IS NOT NULL;"
   ]
  },
  {
   "cell_type": "code",
   "execution_count": 226,
   "metadata": {
    "collapsed": false
   },
   "outputs": [
    {
     "data": {
      "text/html": [
       "<table>\n",
       "<tr><th>name</th><th>dated</th><th>reading</th></tr><tr><td>DR-1</td><td>1927-02-08</td><td>9.82</td></tr>\n",
       "<tr><td>DR-1</td><td>1927-02-10</td><td>7.8</td></tr>\n",
       "<tr><td>DR-1</td><td>1932-03-22</td><td>11.25</td></tr>\n",
       "</table>"
      ],
      "text/plain": [
       "<IPython.core.display.HTML object>"
      ]
     },
     "metadata": {},
     "output_type": "display_data"
    }
   ],
   "source": [
    "%%sqlite survey.db\n",
    "-- write a query that lists all\n",
    "-- radiation readings from the DR-1 site\n",
    "SELECT Site.name, Visited.dated, Survey.reading\n",
    "FROM Survey\n",
    "JOIN Visited ON Visited.ident=Survey.taken\n",
    "JOIN Site ON Site.name=Visited.site\n",
    "WHERE Site.name='DR-1'\n",
    "AND Survey.quant = 'rad';"
   ]
  },
  {
   "cell_type": "code",
   "execution_count": 1,
   "metadata": {
    "collapsed": false
   },
   "outputs": [],
   "source": [
    "import pymongo"
   ]
  },
  {
   "cell_type": "code",
   "execution_count": 2,
   "metadata": {
    "collapsed": true
   },
   "outputs": [],
   "source": [
    "from pymongo import MongoClient"
   ]
  },
  {
   "cell_type": "code",
   "execution_count": 7,
   "metadata": {
    "collapsed": false
   },
   "outputs": [],
   "source": [
    "conn = MongoClient(host='localhost', port=57017)"
   ]
  },
  {
   "cell_type": "code",
   "execution_count": 8,
   "metadata": {
    "collapsed": true
   },
   "outputs": [],
   "source": [
    "db = conn.things"
   ]
  },
  {
   "cell_type": "code",
   "execution_count": 10,
   "metadata": {
    "collapsed": true
   },
   "outputs": [],
   "source": [
    "animals = [\n",
    "    {'name': 'Barry', 'type': \"Bear\"},\n",
    "    {'name': 'Michelle', 'type': \"Lemur\"}\n",
    "]"
   ]
  },
  {
   "cell_type": "code",
   "execution_count": 11,
   "metadata": {
    "collapsed": false
   },
   "outputs": [
    {
     "data": {
      "text/plain": [
       "[ObjectId('5639474a36909f3e3e4fea8b'), ObjectId('5639474a36909f3e3e4fea8c')]"
      ]
     },
     "execution_count": 11,
     "metadata": {},
     "output_type": "execute_result"
    }
   ],
   "source": [
    "db.animals.insert(animals)"
   ]
  },
  {
   "cell_type": "code",
   "execution_count": null,
   "metadata": {
    "collapsed": true
   },
   "outputs": [],
   "source": []
  }
 ],
 "metadata": {
  "kernelspec": {
   "display_name": "Python 3",
   "language": "python",
   "name": "python3"
  },
  "language_info": {
   "codemirror_mode": {
    "name": "ipython",
    "version": 3
   },
   "file_extension": ".py",
   "mimetype": "text/x-python",
   "name": "python",
   "nbconvert_exporter": "python",
   "pygments_lexer": "ipython3",
   "version": "3.4.3"
  }
 },
 "nbformat": 4,
 "nbformat_minor": 0
}
