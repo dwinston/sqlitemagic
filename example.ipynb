{
 "cells": [
  {
   "cell_type": "code",
   "execution_count": 1,
   "metadata": {
    "collapsed": false
   },
   "outputs": [],
   "source": [
    "%load_ext autoreload\n",
    "%autoreload 2"
   ]
  },
  {
   "cell_type": "code",
   "execution_count": 2,
   "metadata": {
    "collapsed": false
   },
   "outputs": [],
   "source": [
    "%reload_ext sqlitemagic"
   ]
  },
  {
   "cell_type": "code",
   "execution_count": 3,
   "metadata": {
    "collapsed": false
   },
   "outputs": [
    {
     "data": {
      "text/html": [
       "<table>\n",
       "<tr><td>CREATE TABLE Person(\n",
       "\tident    text,\n",
       "\tpersonal text,\n",
       "\tfamily\t text\n",
       ")</td></tr>\n",
       "<tr><td>CREATE TABLE Site(\n",
       "\tname text,\n",
       "\tlat  real,\n",
       "\tlong real\n",
       ")</td></tr>\n",
       "<tr><td>CREATE TABLE Visited(\n",
       "\tident integer,\n",
       "\tsite  text,\n",
       "\tdated text\n",
       ")</td></tr>\n",
       "<tr><td>CREATE TABLE Survey(\n",
       "\ttaken   integer,\n",
       "\tperson  text,\n",
       "\tquant   text,\n",
       "\treading real\n",
       ")</td></tr>\n",
       "</table>"
      ],
      "text/plain": [
       "<IPython.core.display.HTML object>"
      ]
     },
     "metadata": {},
     "output_type": "display_data"
    }
   ],
   "source": [
    "%%sqlite survey.db\n",
    ".schema"
   ]
  },
  {
   "cell_type": "code",
   "execution_count": 5,
   "metadata": {
    "collapsed": false
   },
   "outputs": [
    {
     "data": {
      "text/html": [
       "<table>\n",
       "<tr><th>ident</th><th>personal</th><th>family</th></tr><tr><td>dyer</td><td>William</td><td>Dyer</td></tr>\n",
       "<tr><td>pb</td><td>Frank</td><td>Pabodie</td></tr>\n",
       "<tr><td>lake</td><td>Anderson</td><td>Lake</td></tr>\n",
       "<tr><td>roe</td><td>Valentina</td><td>Roerich</td></tr>\n",
       "<tr><td>danforth</td><td>Frank</td><td>Danforth</td></tr>\n",
       "</table>"
      ],
      "text/plain": [
       "<IPython.core.display.HTML object>"
      ]
     },
     "metadata": {},
     "output_type": "display_data"
    }
   ],
   "source": [
    "%%sqlite survey.db\n",
    "select * from person;"
   ]
  },
  {
   "cell_type": "code",
   "execution_count": 6,
   "metadata": {
    "collapsed": false,
    "scrolled": true
   },
   "outputs": [
    {
     "data": {
      "text/html": [
       "<table>\n",
       "<tr><th>name</th><th>lat</th><th>long</th></tr><tr><td>DR-1</td><td>-49.85</td><td>-128.57</td></tr>\n",
       "<tr><td>DR-3</td><td>-47.15</td><td>-126.72</td></tr>\n",
       "<tr><td>MSK-4</td><td>-48.87</td><td>-123.4</td></tr>\n",
       "</table>"
      ],
      "text/plain": [
       "<IPython.core.display.HTML object>"
      ]
     },
     "metadata": {},
     "output_type": "display_data"
    }
   ],
   "source": [
    "%%sqlite survey.db\n",
    "select * from site;"
   ]
  },
  {
   "cell_type": "code",
   "execution_count": 7,
   "metadata": {
    "collapsed": false,
    "scrolled": true
   },
   "outputs": [
    {
     "data": {
      "text/html": [
       "<table>\n",
       "<tr><th>ident</th><th>site</th><th>dated</th></tr><tr><td>619</td><td>DR-1</td><td>1927-02-08</td></tr>\n",
       "<tr><td>622</td><td>DR-1</td><td>1927-02-10</td></tr>\n",
       "<tr><td>734</td><td>DR-3</td><td>1939-01-07</td></tr>\n",
       "<tr><td>735</td><td>DR-3</td><td>1930-01-12</td></tr>\n",
       "<tr><td>751</td><td>DR-3</td><td>1930-02-26</td></tr>\n",
       "<tr><td>752</td><td>DR-3</td><td>NULL</td></tr>\n",
       "<tr><td>837</td><td>MSK-4</td><td>1932-01-14</td></tr>\n",
       "<tr><td>844</td><td>DR-1</td><td>1932-03-22</td></tr>\n",
       "</table>"
      ],
      "text/plain": [
       "<IPython.core.display.HTML object>"
      ]
     },
     "metadata": {},
     "output_type": "display_data"
    }
   ],
   "source": [
    "%%sqlite survey.db\n",
    "select * from visited;"
   ]
  },
  {
   "cell_type": "code",
   "execution_count": 8,
   "metadata": {
    "collapsed": false,
    "scrolled": true
   },
   "outputs": [
    {
     "data": {
      "text/html": [
       "<table>\n",
       "<tr><th>taken</th><th>person</th><th>quant</th><th>reading</th></tr><tr><td>619</td><td>dyer</td><td>rad</td><td>9.82</td></tr>\n",
       "<tr><td>619</td><td>dyer</td><td>sal</td><td>0.13</td></tr>\n",
       "<tr><td>622</td><td>dyer</td><td>rad</td><td>7.8</td></tr>\n",
       "<tr><td>622</td><td>dyer</td><td>sal</td><td>0.09</td></tr>\n",
       "<tr><td>734</td><td>pb</td><td>rad</td><td>8.41</td></tr>\n",
       "<tr><td>734</td><td>lake</td><td>sal</td><td>0.05</td></tr>\n",
       "<tr><td>734</td><td>pb</td><td>temp</td><td>-21.5</td></tr>\n",
       "<tr><td>735</td><td>pb</td><td>rad</td><td>7.22</td></tr>\n",
       "<tr><td>735</td><td>NULL</td><td>sal</td><td>0.06</td></tr>\n",
       "<tr><td>735</td><td>NULL</td><td>temp</td><td>-26.0</td></tr>\n",
       "<tr><td>751</td><td>pb</td><td>rad</td><td>4.35</td></tr>\n",
       "<tr><td>751</td><td>pb</td><td>temp</td><td>-18.5</td></tr>\n",
       "<tr><td>751</td><td>lake</td><td>sal</td><td>0.1</td></tr>\n",
       "<tr><td>752</td><td>lake</td><td>rad</td><td>2.19</td></tr>\n",
       "<tr><td>752</td><td>lake</td><td>sal</td><td>0.09</td></tr>\n",
       "<tr><td>752</td><td>lake</td><td>temp</td><td>-16.0</td></tr>\n",
       "<tr><td>752</td><td>roe</td><td>sal</td><td>41.6</td></tr>\n",
       "<tr><td>837</td><td>lake</td><td>rad</td><td>1.46</td></tr>\n",
       "<tr><td>837</td><td>lake</td><td>sal</td><td>0.21</td></tr>\n",
       "<tr><td>837</td><td>roe</td><td>sal</td><td>22.5</td></tr>\n",
       "<tr><td>844</td><td>roe</td><td>rad</td><td>11.25</td></tr>\n",
       "</table>"
      ],
      "text/plain": [
       "<IPython.core.display.HTML object>"
      ]
     },
     "metadata": {},
     "output_type": "display_data"
    }
   ],
   "source": [
    "%%sqlite survey.db\n",
    "select * from survey;"
   ]
  },
  {
   "cell_type": "code",
   "execution_count": 8,
   "metadata": {
    "collapsed": false,
    "scrolled": true
   },
   "outputs": [
    {
     "data": {
      "text/html": [
       "<table>\n",
       "<tr><th>taken</th><th>person</th><th>quant</th><th>reading</th></tr><tr><td>619</td><td>dyer</td><td>rad</td><td>9.82</td></tr>\n",
       "<tr><td>619</td><td>dyer</td><td>sal</td><td>0.13</td></tr>\n",
       "<tr><td>622</td><td>dyer</td><td>rad</td><td>7.8</td></tr>\n",
       "<tr><td>622</td><td>dyer</td><td>sal</td><td>0.09</td></tr>\n",
       "<tr><td>734</td><td>pb</td><td>rad</td><td>8.41</td></tr>\n",
       "<tr><td>734</td><td>lake</td><td>sal</td><td>0.05</td></tr>\n",
       "<tr><td>734</td><td>pb</td><td>temp</td><td>-21.5</td></tr>\n",
       "<tr><td>735</td><td>pb</td><td>rad</td><td>7.22</td></tr>\n",
       "<tr><td>735</td><td>NULL</td><td>sal</td><td>0.06</td></tr>\n",
       "<tr><td>735</td><td>NULL</td><td>temp</td><td>-26.0</td></tr>\n",
       "<tr><td>751</td><td>pb</td><td>rad</td><td>4.35</td></tr>\n",
       "<tr><td>751</td><td>pb</td><td>temp</td><td>-18.5</td></tr>\n",
       "<tr><td>751</td><td>lake</td><td>sal</td><td>0.1</td></tr>\n",
       "<tr><td>752</td><td>lake</td><td>rad</td><td>2.19</td></tr>\n",
       "<tr><td>752</td><td>lake</td><td>sal</td><td>0.09</td></tr>\n",
       "<tr><td>752</td><td>lake</td><td>temp</td><td>-16.0</td></tr>\n",
       "<tr><td>752</td><td>roe</td><td>sal</td><td>41.6</td></tr>\n",
       "<tr><td>837</td><td>lake</td><td>rad</td><td>1.46</td></tr>\n",
       "<tr><td>837</td><td>lake</td><td>sal</td><td>0.21</td></tr>\n",
       "<tr><td>837</td><td>roe</td><td>sal</td><td>22.5</td></tr>\n",
       "<tr><td>844</td><td>roe</td><td>rad</td><td>11.25</td></tr>\n",
       "</table>"
      ],
      "text/plain": [
       "<IPython.core.display.HTML object>"
      ]
     },
     "metadata": {},
     "output_type": "display_data"
    }
   ],
   "source": [
    "%%sqlite survey.db\n",
    "select * from survey;"
   ]
  }
 ],
 "metadata": {
  "kernelspec": {
   "display_name": "Python 3",
   "language": "python",
   "name": "python3"
  },
  "language_info": {
   "codemirror_mode": {
    "name": "ipython",
    "version": 3
   },
   "file_extension": ".py",
   "mimetype": "text/x-python",
   "name": "python",
   "nbconvert_exporter": "python",
   "pygments_lexer": "ipython3",
   "version": "3.4.3"
  }
 },
 "nbformat": 4,
 "nbformat_minor": 0
}
