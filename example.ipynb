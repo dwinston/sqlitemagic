{
 "cells": [
  {
   "cell_type": "code",
   "execution_count": 1,
   "metadata": {
    "collapsed": false
   },
   "outputs": [],
   "source": [
    "%load_ext autoreload\n",
    "%autoreload 2"
   ]
  },
  {
   "cell_type": "code",
   "execution_count": 2,
   "metadata": {
    "collapsed": false
   },
   "outputs": [],
   "source": [
    "%reload_ext sqlitemagic"
   ]
  },
  {
   "cell_type": "code",
   "execution_count": 23,
   "metadata": {
    "collapsed": false
   },
   "outputs": [
    {
     "data": {
      "text/html": [
       "<table>\n",
       "<tr><td>CREATE TABLE Person(\n",
       "\tident    text,\n",
       "\tpersonal text,\n",
       "\tfamily\t text\n",
       ")</td></tr>\n",
       "<tr><td>CREATE TABLE Site(\n",
       "\tname text,\n",
       "\tlat  real,\n",
       "\tlong real\n",
       ")</td></tr>\n",
       "<tr><td>CREATE TABLE Visited(\n",
       "\tident integer,\n",
       "\tsite  text,\n",
       "\tdated text\n",
       ")</td></tr>\n",
       "<tr><td>CREATE TABLE Survey(\n",
       "\ttaken   integer,\n",
       "\tperson  text,\n",
       "\tquant   text,\n",
       "\treading real\n",
       ")</td></tr>\n",
       "</table>"
      ],
      "text/plain": [
       "<IPython.core.display.HTML object>"
      ]
     },
     "metadata": {},
     "output_type": "display_data"
    }
   ],
   "source": [
    "%%sqlite survey.db\n",
    ".schema"
   ]
  },
  {
   "cell_type": "code",
   "execution_count": 99,
   "metadata": {
    "collapsed": false
   },
   "outputs": [
    {
     "data": {
      "text/html": [
       "<table>\n",
       "<tr><th>taken</th><th>person</th><th>quant</th><th>reading</th></tr><tr><td>619</td><td>dyer</td><td>sal</td><td>0.13</td></tr>\n",
       "<tr><td>622</td><td>dyer</td><td>sal</td><td>0.09</td></tr>\n",
       "<tr><td>735</td><td>NULL</td><td>sal</td><td>0.06</td></tr>\n",
       "<tr><td>752</td><td>roe</td><td>sal</td><td>41.6</td></tr>\n",
       "<tr><td>837</td><td>roe</td><td>sal</td><td>22.5</td></tr>\n",
       "</table>"
      ],
      "text/plain": [
       "<IPython.core.display.HTML object>"
      ]
     },
     "metadata": {},
     "output_type": "display_data"
    }
   ],
   "source": [
    "%%sqlite survey.db\n",
    "SELECT * FROM Survey\n",
    "WHERE quant='sal'\n",
    "AND (person!='lake' OR person IS NULL);"
   ]
  }
 ],
 "metadata": {
  "kernelspec": {
   "display_name": "Python 3",
   "language": "python",
   "name": "python3"
  },
  "language_info": {
   "codemirror_mode": {
    "name": "ipython",
    "version": 3
   },
   "file_extension": ".py",
   "mimetype": "text/x-python",
   "name": "python",
   "nbconvert_exporter": "python",
   "pygments_lexer": "ipython3",
   "version": "3.4.3"
  }
 },
 "nbformat": 4,
 "nbformat_minor": 0
}
